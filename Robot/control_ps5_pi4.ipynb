{
 "cells": [
  {
   "cell_type": "code",
   "execution_count": 1,
   "id": "70144293-2da8-4e28-8251-e2007729faa5",
   "metadata": {},
   "outputs": [
    {
     "data": {
      "application/vnd.jupyter.widget-view+json": {
       "model_id": "af2fef17441c4db7b6cf8c67421f724f",
       "version_major": 2,
       "version_minor": 0
      },
      "text/plain": [
       "Controller()"
      ]
     },
     "metadata": {},
     "output_type": "display_data"
    }
   ],
   "source": [
    "import ipywidgets.widgets as widgets\n",
    "controller = widgets.Controller(index=0) \n",
    "display(controller)"
   ]
  },
  {
   "cell_type": "code",
   "execution_count": 29,
   "id": "79b7ea5e-2f31-439c-9e4f-b53b20336318",
   "metadata": {},
   "outputs": [],
   "source": [
    "import RPi.GPIO as gpio\n",
    "import time\n",
    "\n",
    "enA = 17\n",
    "in1 = 27\n",
    "in2 = 22\n",
    "\n",
    "enB = 25\n",
    "in3 = 23\n",
    "in4 = 24\n",
    "\n",
    "pwmA = None\n",
    "pwmB = None\n",
    "dutyCycleA = 50 \n",
    "dutyCycleB = 50 "
   ]
  },
  {
   "cell_type": "code",
   "execution_count": 30,
   "id": "abddb95c-7e25-4b01-8b6c-4f9f24578112",
   "metadata": {},
   "outputs": [],
   "source": [
    "def init():    \n",
    "    global pwmA, pwmB\n",
    "    gpio.setmode(gpio.BCM)\n",
    "    gpio.setup(enA, gpio.OUT)\n",
    "    gpio.setup(in1, gpio.OUT)\n",
    "    gpio.setup(in2, gpio.OUT)\n",
    "    \n",
    "    gpio.setup(in3, gpio.OUT)\n",
    "    gpio.setup(in4, gpio.OUT)\n",
    "    gpio.setup(enB, gpio.OUT)\n",
    "\n",
    "    \n",
    "    pwmA = gpio.PWM(enA, 100)  \n",
    "    pwmA.start(0)\n",
    "\n",
    "    pwmB = gpio.PWM(enB, 100)  \n",
    "    pwmB.start(0)"
   ]
  },
  {
   "cell_type": "code",
   "execution_count": 31,
   "id": "f74db9a5-ad58-4b07-8fe9-e0ef4665574f",
   "metadata": {},
   "outputs": [],
   "source": [
    "def stop_robot_motion():\n",
    "    pwmA.stop()\n",
    "    pwmB.stop()\n",
    "    gpio.cleanup() \n",
    "\n",
    "def stop_motion():\n",
    "    pwmA.ChangeDutyCycle(0)\n",
    "    pwmB.ChangeDutyCycle(0)\n",
    "\n",
    "def forward(dutyCycleA, dutyCycleB):\n",
    "    pwmA.ChangeDutyCycle(dutyCycleA)\n",
    "    pwmB.ChangeDutyCycle(dutyCycleB)\n",
    "    \n",
    "    gpio.output(in1, False)\n",
    "    gpio.output(in2, True)\n",
    "    \n",
    "    gpio.output(in3, False)\n",
    "    gpio.output(in4, True)\n",
    "    \n",
    "def reverse(dutyCycleA, dutyCycleB):\n",
    "    pwmA.ChangeDutyCycle(dutyCycleA)\n",
    "    pwmB.ChangeDutyCycle(dutyCycleB)\n",
    "    \n",
    "    gpio.output(in1, True)\n",
    "    gpio.output(in2, False)\n",
    "    \n",
    "    gpio.output(in3, True)\n",
    "    gpio.output(in4, False)\n",
    "    \n",
    "def left_turn(dutyCycleA, dutyCycleB):\n",
    "    pwmA.ChangeDutyCycle(dutyCycleA)\n",
    "    pwmB.ChangeDutyCycle(dutyCycleB) \n",
    "\n",
    "    # Motorul drept se roteste spre fata\n",
    "    gpio.output(in1, True)\n",
    "    gpio.output(in2, False)\n",
    "\n",
    "    # Motorul stang se roteste spre spate\n",
    "    gpio.output(in3, False)\n",
    "    gpio.output(in4, True)\n",
    "    \n",
    "def right_turn(dutyCycleA, dutyCycleB):\n",
    "    pwmA.ChangeDutyCycle(dutyCycleA)  \n",
    "    pwmB.ChangeDutyCycle(dutyCycleB)\n",
    "\n",
    "    # Motorul stang se roteste spre spate\n",
    "    gpio.output(in1, False) \n",
    "    gpio.output(in2, True)\n",
    "\n",
    "    # Motorul drept se roteste spre fata\n",
    "    gpio.output(in3, True)\n",
    "    gpio.output(in4, False)"
   ]
  },
  {
   "cell_type": "code",
   "execution_count": 32,
   "id": "f6256982-771c-4c9d-8e94-e99e5bb81ff0",
   "metadata": {},
   "outputs": [],
   "source": [
    "def robot_motion():\n",
    "    while 1:\n",
    "        \n",
    "        if controller.axes[1].value <= 0.1:\n",
    "                if (controller.axes[0].value <= 0.1 and controller.axes[0].value >= -0.1 \n",
    "                    and controller.axes[1].value <= 0.1 and controller.axes[1].value >= -0.1):\n",
    "                    stop_motion()\n",
    "                else:\n",
    "                    stanga = (-controller.axes[1].value + controller.axes[0].value) / 2\n",
    "                    dreapta = (-controller.axes[1].value - controller.axes[0].value) / 2\n",
    "\n",
    "                    if stanga >= 0 and dreapta >= 0:\n",
    "                        forward(stanga * 100, dreapta * 100)\n",
    "                    elif stanga <= 0 and dreapta <= 0:\n",
    "                        reverse(abs(stanga) * 100, abs(dreapta) * 100)\n",
    "                    elif stanga <= 0 and dreapta >= 0:\n",
    "                        right_turn(abs(stanga) * 100, dreapta * 100)\n",
    "                    else:\n",
    "                        left_turn(stanga * 100, abs(dreapta) * 100)\n",
    "                        \n",
    "                    # robot.set_motors(-controller.axes[1].value + controller.axes[0].value, -controller.axes[1].value - controller.axes[0].value)\n",
    "                time.sleep(0.01)\n",
    "        else:\n",
    "                stanga = (-controller.axes[1].value - controller.axes[0].value) / 2\n",
    "                dreapta = (-controller.axes[1].value + controller.axes[0].value) / 2\n",
    "\n",
    "                if stanga >= 0 and dreapta >= 0:\n",
    "                    forward(stanga * 100, dreapta * 100)\n",
    "                elif stanga <= 0 and dreapta <= 0:\n",
    "                    reverse(abs(stanga) * 100, abs(dreapta) * 100)\n",
    "                elif stanga <= 0 and dreapta >= 0:\n",
    "                    right_turn(abs(stanga) * 100, dreapta * 100)\n",
    "                else:\n",
    "                    left_turn(stanga * 100, abs(dreapta) * 100)\n",
    "                \n",
    "                # robot.set_motors(-controller.axes[1].value - controller.axes[0].value, -controller.axes[1].value + controller.axes[0].value)\n",
    "                time.sleep(0.01)"
   ]
  },
  {
   "cell_type": "code",
   "execution_count": 35,
   "id": "3a976ad3-b54e-49a3-b4ec-08097e6151a9",
   "metadata": {},
   "outputs": [
    {
     "name": "stderr",
     "output_type": "stream",
     "text": [
      "/tmp/ipykernel_20619/466402992.py:4: RuntimeWarning: This channel is already in use, continuing anyway.  Use GPIO.setwarnings(False) to disable warnings.\n",
      "  gpio.setup(enA, gpio.OUT)\n",
      "/tmp/ipykernel_20619/466402992.py:5: RuntimeWarning: This channel is already in use, continuing anyway.  Use GPIO.setwarnings(False) to disable warnings.\n",
      "  gpio.setup(in1, gpio.OUT)\n",
      "/tmp/ipykernel_20619/466402992.py:6: RuntimeWarning: This channel is already in use, continuing anyway.  Use GPIO.setwarnings(False) to disable warnings.\n",
      "  gpio.setup(in2, gpio.OUT)\n",
      "/tmp/ipykernel_20619/466402992.py:8: RuntimeWarning: This channel is already in use, continuing anyway.  Use GPIO.setwarnings(False) to disable warnings.\n",
      "  gpio.setup(in3, gpio.OUT)\n",
      "/tmp/ipykernel_20619/466402992.py:9: RuntimeWarning: This channel is already in use, continuing anyway.  Use GPIO.setwarnings(False) to disable warnings.\n",
      "  gpio.setup(in4, gpio.OUT)\n",
      "/tmp/ipykernel_20619/466402992.py:10: RuntimeWarning: This channel is already in use, continuing anyway.  Use GPIO.setwarnings(False) to disable warnings.\n",
      "  gpio.setup(enB, gpio.OUT)\n",
      "/tmp/ipykernel_20619/2564457516.py:5: DeprecationWarning: setDaemon() is deprecated, set the daemon attribute instead\n",
      "  thread1.setDaemon(True)\n",
      "Exception in thread Thread-15 (robot_motion):\n",
      "Traceback (most recent call last):\n",
      "  File \"/usr/lib/python3.11/threading.py\", line 1038, in _bootstrap_inner\n",
      "    self.run()\n",
      "  File \"/usr/local/lib/python3.11/dist-packages/ipykernel/ipkernel.py\", line 761, in run_closure\n",
      "    _threading_Thread_run(self)\n",
      "  File \"/usr/lib/python3.11/threading.py\", line 975, in run\n",
      "    self._target(*self._args, **self._kwargs)\n",
      "  File \"/tmp/ipykernel_20619/1358148383.py\", line 4, in robot_motion\n",
      "IndexError: tuple index out of range\n"
     ]
    }
   ],
   "source": [
    "import threading\n",
    "\n",
    "init()\n",
    "thread1 = threading.Thread(target=robot_motion)\n",
    "thread1.setDaemon(True)\n",
    "thread1.start()\n"
   ]
  },
  {
   "cell_type": "code",
   "execution_count": 36,
   "id": "32ab37f7-bb74-41c7-a1d8-6cab9e0cb100",
   "metadata": {},
   "outputs": [],
   "source": [
    "stop_robot_motion()"
   ]
  },
  {
   "cell_type": "code",
   "execution_count": null,
   "id": "80472116-ae93-42bd-9b3e-2bc606aafdea",
   "metadata": {},
   "outputs": [],
   "source": []
  }
 ],
 "metadata": {
  "kernelspec": {
   "display_name": "Python 3 (ipykernel)",
   "language": "python",
   "name": "python3"
  },
  "language_info": {
   "codemirror_mode": {
    "name": "ipython",
    "version": 3
   },
   "file_extension": ".py",
   "mimetype": "text/x-python",
   "name": "python",
   "nbconvert_exporter": "python",
   "pygments_lexer": "ipython3",
   "version": "3.11.2"
  }
 },
 "nbformat": 4,
 "nbformat_minor": 5
}
