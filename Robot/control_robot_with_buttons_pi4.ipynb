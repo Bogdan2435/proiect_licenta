{
 "cells": [
  {
   "cell_type": "code",
   "execution_count": 1,
   "id": "e27cb0e6-bd28-492f-83c2-365fd1597d7c",
   "metadata": {},
   "outputs": [],
   "source": [
    "import RPi.GPIO as gpio\n",
    "import time\n",
    "\n",
    "enA = 17\n",
    "in1 = 27\n",
    "in2 = 22\n",
    "\n",
    "enB = 25\n",
    "in3 = 23\n",
    "in4 = 24"
   ]
  },
  {
   "cell_type": "code",
   "execution_count": 2,
   "id": "e221508d-8e88-4927-9dfa-03d039e5f1ff",
   "metadata": {},
   "outputs": [],
   "source": [
    "pwmA = None\n",
    "pwmB = None\n",
    "dutyCycleA = 50 \n",
    "dutyCycleB = 50 "
   ]
  },
  {
   "cell_type": "code",
   "execution_count": 3,
   "id": "1d427b0a-6e69-48c4-9066-a35f6f1e2601",
   "metadata": {},
   "outputs": [],
   "source": [
    "def init():    \n",
    "    global pwmA, pwmB\n",
    "    gpio.setmode(gpio.BCM)\n",
    "    gpio.setup(enA, gpio.OUT)\n",
    "    gpio.setup(in1, gpio.OUT)\n",
    "    gpio.setup(in2, gpio.OUT)\n",
    "    \n",
    "    gpio.setup(in3, gpio.OUT)\n",
    "    gpio.setup(in4, gpio.OUT)\n",
    "    gpio.setup(enB, gpio.OUT)\n",
    "\n",
    "    pwmA = gpio.PWM(enA, 100) \n",
    "    pwmA.start(0)\n",
    "\n",
    "    pwmB = gpio.PWM(enB, 100) \n",
    "    pwmB.start(0)"
   ]
  },
  {
   "cell_type": "code",
   "execution_count": 4,
   "id": "eaa05e70-fe13-4cbe-b40d-01906d975d02",
   "metadata": {},
   "outputs": [],
   "source": [
    "def stop_robot_motion():\n",
    "    pwmA.stop()\n",
    "    pwmB.stop()\n",
    "    gpio.cleanup() \n",
    "\n",
    "def stop_motion():\n",
    "    pwmA.ChangeDutyCycle(0)\n",
    "    pwmB.ChangeDutyCycle(0)\n",
    "\n",
    "def forward(dutyCycleA, dutyCycleB):\n",
    "    pwmA.ChangeDutyCycle(dutyCycleA)\n",
    "    pwmB.ChangeDutyCycle(dutyCycleB)\n",
    "    \n",
    "    gpio.output(in1, False)\n",
    "    gpio.output(in2, True)\n",
    "    \n",
    "    gpio.output(in3, False)\n",
    "    gpio.output(in4, True)\n",
    "    \n",
    "def reverse(dutyCycleA, dutyCycleB):\n",
    "    pwmA.ChangeDutyCycle(dutyCycleA)\n",
    "    pwmB.ChangeDutyCycle(dutyCycleB)\n",
    "    \n",
    "    gpio.output(in1, True)\n",
    "    gpio.output(in2, False)\n",
    "    \n",
    "    gpio.output(in3, True)\n",
    "    gpio.output(in4, False)\n",
    "    \n",
    "def left_turn():\n",
    "    pwmA.ChangeDutyCycle(dutyCycleA)\n",
    "    pwmB.ChangeDutyCycle(0)  \n",
    "    \n",
    "    gpio.output(in1, True)\n",
    "    gpio.output(in2, False)\n",
    "    \n",
    "def right_turn():\n",
    "    pwmA.ChangeDutyCycle(0)  \n",
    "    pwmB.ChangeDutyCycle(dutyCycleB)\n",
    "    \n",
    "    gpio.output(in3, True)\n",
    "    gpio.output(in4, False)\n"
   ]
  },
  {
   "cell_type": "code",
   "execution_count": 5,
   "id": "104fff3a-7c2d-4801-abf1-25e0a4511a6f",
   "metadata": {},
   "outputs": [],
   "source": [
    "import ipywidgets.widgets as widgets\n",
    "from IPython.display import display"
   ]
  },
  {
   "cell_type": "code",
   "execution_count": 6,
   "id": "ae613f0e-ec50-428f-a8b9-bc9ef7152658",
   "metadata": {},
   "outputs": [
    {
     "data": {
      "application/vnd.jupyter.widget-view+json": {
       "model_id": "430ba13bb0524c07a79c02586ee925a3",
       "version_major": 2,
       "version_minor": 0
      },
      "text/plain": [
       "VBox(children=(Button(description='forward', layout=Layout(align_self='center', height='80px', width='100px'),…"
      ]
     },
     "metadata": {},
     "output_type": "display_data"
    }
   ],
   "source": [
    "button_layout = widgets.Layout(width='100px', height='80px', align_self='center')\n",
    "stop_button = widgets.Button(description='stop', button_style='danger', layout=button_layout)\n",
    "forward_button = widgets.Button(description='forward', layout=button_layout)\n",
    "backward_button = widgets.Button(description='backward', layout=button_layout)\n",
    "left_button = widgets.Button(description='left', layout=button_layout)\n",
    "right_button = widgets.Button(description='right', layout=button_layout)\n",
    "\n",
    "middle_box = widgets.HBox([left_button, stop_button, right_button], layout=widgets.Layout(align_self='center'))\n",
    "controls_box = widgets.VBox([forward_button, middle_box, backward_button])\n",
    "display(controls_box)"
   ]
  },
  {
   "cell_type": "code",
   "execution_count": 7,
   "id": "6b5e39c0-270b-4c39-afe7-a9ea5a034fc5",
   "metadata": {},
   "outputs": [],
   "source": [
    "def step_forward(change):\n",
    "    forward(50, 50)\n",
    "\n",
    "def step_backward(change):\n",
    "    reverse(50, 50)\n",
    "\n",
    "def step_left(change):\n",
    "    left_turn()\n",
    "\n",
    "def step_right(change):\n",
    "    right_turn()\n",
    "\n",
    "def stop_robot(change):\n",
    "    stop_motion()"
   ]
  },
  {
   "cell_type": "code",
   "execution_count": 8,
   "id": "518f1d52-35e2-4c9a-a837-a3fde1fe86cb",
   "metadata": {},
   "outputs": [],
   "source": [
    "# stop_button.on_click(stop)\n",
    "init()\n",
    "\n",
    "stop_button.on_click(stop_robot)\n",
    "forward_button.on_click(step_forward)\n",
    "backward_button.on_click(step_backward)\n",
    "left_button.on_click(step_left)\n",
    "right_button.on_click(step_right)"
   ]
  },
  {
   "cell_type": "code",
   "execution_count": 11,
   "id": "e58f242a-d21e-4cf2-afc0-94eaa51bb5b3",
   "metadata": {},
   "outputs": [],
   "source": [
    "stop_robot_motion()"
   ]
  },
  {
   "cell_type": "code",
   "execution_count": null,
   "id": "d670cdf9-eb30-436c-8283-9719c7c26818",
   "metadata": {},
   "outputs": [],
   "source": []
  }
 ],
 "metadata": {
  "kernelspec": {
   "display_name": "Python 3 (ipykernel)",
   "language": "python",
   "name": "python3"
  },
  "language_info": {
   "codemirror_mode": {
    "name": "ipython",
    "version": 3
   },
   "file_extension": ".py",
   "mimetype": "text/x-python",
   "name": "python",
   "nbconvert_exporter": "python",
   "pygments_lexer": "ipython3",
   "version": "3.11.2"
  }
 },
 "nbformat": 4,
 "nbformat_minor": 5
}
