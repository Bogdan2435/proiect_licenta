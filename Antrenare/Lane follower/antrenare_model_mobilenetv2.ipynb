{
 "cells": [
  {
   "cell_type": "markdown",
   "id": "6a39e06e-75b8-4a95-b7b5-8b22ea79d32f",
   "metadata": {},
   "source": [
    "# Clasa pentru modelul MobileNetV2"
   ]
  },
  {
   "cell_type": "code",
   "execution_count": 1,
   "id": "7690512b-1f21-4984-8c46-eec63e88f20e",
   "metadata": {},
   "outputs": [
    {
     "name": "stderr",
     "output_type": "stream",
     "text": [
      "/home/bogdan/.local/lib/python3.10/site-packages/tqdm/auto.py:21: TqdmWarning: IProgress not found. Please update jupyter and ipywidgets. See https://ipywidgets.readthedocs.io/en/stable/user_install.html\n",
      "  from .autonotebook import tqdm as notebook_tqdm\n"
     ]
    }
   ],
   "source": [
    "import torch\n",
    "import torch.nn as nn\n",
    "import torchvision.models as models\n",
    "\n",
    "class MobileNetSteering(nn.Module):\n",
    "    def __init__(self, num_classes=1):\n",
    "        super(MobileNetSteering, self).__init__()\n",
    "        self.mobilenet = models.mobilenet_v2(pretrained=True)\n",
    "        \n",
    "        in_features = self.mobilenet.classifier[1].in_features\n",
    "        self.mobilenet.classifier[1] = nn.Linear(in_features, num_classes)\n",
    "    \n",
    "    def forward(self, x):\n",
    "        x = self.mobilenet(x)\n",
    "        return x"
   ]
  },
  {
   "cell_type": "markdown",
   "id": "e63f29f0-e3a9-4723-82c6-16d4f0d02345",
   "metadata": {},
   "source": [
    "# Functiile pentru augmentarea setului de date"
   ]
  },
  {
   "cell_type": "code",
   "execution_count": 2,
   "id": "fcddf6c4-32ab-4bf0-8f77-ebf166ca0534",
   "metadata": {},
   "outputs": [],
   "source": [
    "import random\n",
    "import numpy as np\n",
    "from imgaug import augmenters as img_aug\n",
    "\n",
    "def zoom(image):\n",
    "    zoom = img_aug.Affine(scale=(1, 1.3)) \n",
    "    image = zoom.augment_image(image)\n",
    "    return image\n",
    "\n",
    "def random_flip(image, steering_angle):\n",
    "    is_flip = random.randint(0, 1)\n",
    "    if is_flip == 1:\n",
    "        # randomly flip horizon\n",
    "        image = cv2.flip(image,1)\n",
    "        steering_angle = 180 - steering_angle\n",
    "   \n",
    "    return image, steering_angle\n",
    "\n",
    "def pan(image):\n",
    "    pan = img_aug.Affine(translate_percent= {\"x\" : (-0.1, 0.1), \"y\": (-0.1, 0.1)})\n",
    "    image = pan.augment_image(image)\n",
    "    return image\n",
    "\n",
    "def adjust_brightness(image):\n",
    "    brightness = img_aug.Multiply((0.7, 1.3))\n",
    "    image = brightness.augment_image(image)\n",
    "    return image\n",
    "\n",
    "def blur(image):\n",
    "    kernel_size = random.randint(1, 5)  \n",
    "    image = cv2.blur(image,(kernel_size, kernel_size))\n",
    "   \n",
    "    return image\n",
    "\n",
    "def random_augment(image, steering_angle):\n",
    "    if np.random.rand() < 0.5:\n",
    "        image = pan(image)\n",
    "    if np.random.rand() < 0.5:\n",
    "        image = zoom(image)\n",
    "    if np.random.rand() < 0.5:\n",
    "        image = blur(image)\n",
    "    if np.random.rand() < 0.5:\n",
    "        image = adjust_brightness(image)\n",
    "    image, steering_angle = random_flip(image, steering_angle)\n",
    "    \n",
    "    return image, steering_angle\n",
    "\n",
    "def img_preprocess(image):\n",
    "    image = cv2.cvtColor(image, cv2.COLOR_RGB2YUV) \n",
    "    image = cv2.resize(image, (150, 66)) \n",
    "    return image"
   ]
  },
  {
   "cell_type": "markdown",
   "id": "fb9631af-e5f5-4271-9df2-54ed8b1758ae",
   "metadata": {},
   "source": [
    "# Incarcarea, augmentarea si pregatirea seturilor de date pentru antrenare, validare si testare"
   ]
  },
  {
   "cell_type": "code",
   "execution_count": 3,
   "id": "7c77743c-80d7-4605-9f9c-10390174cb41",
   "metadata": {},
   "outputs": [
    {
     "name": "stdout",
     "output_type": "stream",
     "text": [
      "Generated dataset of 4416 items\n"
     ]
    }
   ],
   "source": [
    "import os\n",
    "import cv2\n",
    "import matplotlib.pyplot as plt\n",
    "import PIL.Image\n",
    "import torchvision\n",
    "\n",
    "# dataset\n",
    "data_folder = \"Set_date_complet_28_iunie/imagini/\"\n",
    "adnoatations_csv = \"Set_date_complet_28_iunie/adnotari_angle.csv\"\n",
    "data = []\n",
    "\n",
    "transform = torchvision.transforms.Compose([\n",
    "    torchvision.transforms.ToTensor(),\n",
    "    torchvision.transforms.Normalize(mean=[0.485, 0.456, 0.406], std=[0.229, 0.224, 0.225]),\n",
    "])\n",
    "\n",
    "width = 200\n",
    "height = 66\n",
    "\n",
    "with open(adnoatations_csv, 'r') as csvfile:\n",
    "    for line in csvfile:\n",
    "        name, x, y, angle, comp_angle = line.split(\",\")\n",
    "        comp_angle = 180 - float(angle)\n",
    "        comp_angle = int(round(comp_angle))\n",
    "        \n",
    "        image = data_folder + name \n",
    "        if os.path.isfile(image) and os.stat(image).st_size > 0:\n",
    "            image = cv2.imread(image, cv2.IMREAD_COLOR)\n",
    "            \n",
    "            image_add = img_preprocess(image)\n",
    "            image_add = transform(image_add)\n",
    "            data.append([image_add, comp_angle]) \n",
    "\n",
    "            for i in range(5): # pentru fiecare poza din setuld de date mai vin cu inca 5 augmentate\n",
    "                image_add, steering_angle = random_augment(image, comp_angle)\n",
    "                image_add = img_preprocess(image_add)\n",
    "                image_add = transform(image_add)\n",
    "                data.append([image_add, steering_angle])\n",
    "                \n",
    "    csvfile.close()\n",
    "    \n",
    "    print(\"Generated dataset of \" + str(len(data)) + \" items\")"
   ]
  },
  {
   "cell_type": "code",
   "execution_count": 4,
   "id": "22455615-976b-4ba9-ad2e-a376d26ccb06",
   "metadata": {},
   "outputs": [
    {
     "data": {
      "text/plain": [
       "torch.Size([3, 66, 150])"
      ]
     },
     "execution_count": 4,
     "metadata": {},
     "output_type": "execute_result"
    }
   ],
   "source": [
    "data[1][0].shape"
   ]
  },
  {
   "cell_type": "code",
   "execution_count": 5,
   "id": "cdcc0500-78ee-4db1-9fc0-77d5332dd205",
   "metadata": {},
   "outputs": [],
   "source": [
    "from sklearn.model_selection import train_test_split\n",
    "\n",
    "# impart setul de date in 80% pentru antrenare si 20% pentru validare\n",
    "data_train, data_validation = train_test_split(data, test_size=0.2, random_state=42)\n",
    "# din cei 20% pentru validare, folosesc 20% pentru testare\n",
    "data_validation, data_test = train_test_split(data_validation, test_size=0.2, random_state=42)"
   ]
  },
  {
   "cell_type": "code",
   "execution_count": 6,
   "id": "ecd46cec-12e6-41c0-a759-51d3461a6af6",
   "metadata": {},
   "outputs": [
    {
     "name": "stdout",
     "output_type": "stream",
     "text": [
      "Training dataset has 3532 images\n",
      "Validation dataset has 707 images\n",
      "Testing dataset has 177 images\n"
     ]
    }
   ],
   "source": [
    "print(\"Training dataset has \" + str(len(data_train)) + \" images\")\n",
    "print(\"Validation dataset has \" + str(len(data_validation)) + \" images\")\n",
    "print(\"Testing dataset has \" + str(len(data_test)) + \" images\")"
   ]
  },
  {
   "cell_type": "code",
   "execution_count": 7,
   "id": "0a1e3166-0a78-475f-a87c-d911a06b6bd5",
   "metadata": {},
   "outputs": [],
   "source": [
    "BATCH_SIZE = 256 # dimensiunea batchului adjustata in functie de incarcarea VRAM"
   ]
  },
  {
   "cell_type": "code",
   "execution_count": 8,
   "id": "70b31999-25db-43fb-87e5-3c7035222b0b",
   "metadata": {},
   "outputs": [],
   "source": [
    "training_loader = torch.utils.data.DataLoader(data_train,\n",
    "                                              batch_size=BATCH_SIZE,\n",
    "                                              shuffle=True)\n",
    "\n",
    "validation_loader = torch.utils.data.DataLoader(data_validation,\n",
    "                                              batch_size=BATCH_SIZE,\n",
    "                                              shuffle=True)\n",
    "\n",
    "testing_loader = torch.utils.data.DataLoader(data_test,\n",
    "                                              batch_size=1,\n",
    "                                              shuffle=True)"
   ]
  },
  {
   "cell_type": "markdown",
   "id": "912bc36f-d91b-4e92-b0fc-67a7f29eaad7",
   "metadata": {},
   "source": [
    "# Antrenarea modelului"
   ]
  },
  {
   "cell_type": "code",
   "execution_count": 9,
   "id": "ec104cb9-468c-4ef4-a2f4-47ee14c1f251",
   "metadata": {},
   "outputs": [
    {
     "name": "stderr",
     "output_type": "stream",
     "text": [
      "/home/bogdan/.local/lib/python3.10/site-packages/torchvision/models/_utils.py:208: UserWarning: The parameter 'pretrained' is deprecated since 0.13 and may be removed in the future, please use 'weights' instead.\n",
      "  warnings.warn(\n",
      "/home/bogdan/.local/lib/python3.10/site-packages/torchvision/models/_utils.py:223: UserWarning: Arguments other than a weight enum or `None` for 'weights' are deprecated since 0.13 and may be removed in the future. The current behavior is equivalent to passing `weights=MobileNet_V2_Weights.IMAGENET1K_V1`. You can also use `weights=MobileNet_V2_Weights.DEFAULT` to get the most up-to-date weights.\n",
      "  warnings.warn(msg)\n",
      "/home/bogdan/.local/lib/python3.10/site-packages/torch/optim/lr_scheduler.py:28: UserWarning: The verbose parameter is deprecated. Please use get_last_lr() to access the learning rate.\n",
      "  warnings.warn(\"The verbose parameter is deprecated. Please use get_last_lr() \"\n"
     ]
    },
    {
     "name": "stdout",
     "output_type": "stream",
     "text": [
      "Epoch [1/50], Train Loss: 7423.0978, Val Loss: 5732.0393\n",
      "First epoch, saving model\n",
      "Epoch [2/50], Train Loss: 5364.8127, Val Loss: 4494.6478\n",
      "Validation loss improves, saving model.\n",
      "Epoch [3/50], Train Loss: 3824.2951, Val Loss: 3420.2246\n",
      "Validation loss improves, saving model.\n",
      "Epoch [4/50], Train Loss: 2473.1155, Val Loss: 2684.0439\n",
      "Validation loss improves, saving model.\n",
      "Epoch [5/50], Train Loss: 1448.2373, Val Loss: 693.8692\n",
      "Validation loss improves, saving model.\n",
      "Epoch [6/50], Train Loss: 789.0369, Val Loss: 438.2242\n",
      "Validation loss improves, saving model.\n",
      "Epoch [7/50], Train Loss: 396.4930, Val Loss: 557.4596\n",
      "Epoch [8/50], Train Loss: 208.7798, Val Loss: 240.9703\n",
      "Validation loss improves, saving model.\n",
      "Epoch [9/50], Train Loss: 104.5930, Val Loss: 92.8619\n",
      "Validation loss improves, saving model.\n",
      "Epoch [10/50], Train Loss: 69.7082, Val Loss: 87.3707\n",
      "Validation loss improves, saving model.\n",
      "Epoch [11/50], Train Loss: 42.5669, Val Loss: 53.6316\n",
      "Validation loss improves, saving model.\n",
      "Epoch [12/50], Train Loss: 35.7309, Val Loss: 56.8797\n",
      "Epoch [13/50], Train Loss: 39.0222, Val Loss: 66.0349\n",
      "Epoch [14/50], Train Loss: 27.6493, Val Loss: 39.6429\n",
      "Validation loss improves, saving model.\n",
      "Epoch [15/50], Train Loss: 26.5682, Val Loss: 38.8805\n",
      "Validation loss improves, saving model.\n",
      "Epoch [16/50], Train Loss: 21.3859, Val Loss: 36.1479\n",
      "Validation loss improves, saving model.\n",
      "Epoch [17/50], Train Loss: 20.2405, Val Loss: 41.0934\n",
      "Epoch [18/50], Train Loss: 20.7124, Val Loss: 34.2430\n",
      "Validation loss improves, saving model.\n",
      "Epoch [19/50], Train Loss: 18.5303, Val Loss: 32.6846\n",
      "Validation loss improves, saving model.\n",
      "Epoch [20/50], Train Loss: 22.3430, Val Loss: 37.8407\n",
      "Epoch [21/50], Train Loss: 19.3926, Val Loss: 46.4703\n",
      "Epoch [22/50], Train Loss: 18.2609, Val Loss: 41.0425\n",
      "Epoch [23/50], Train Loss: 16.2032, Val Loss: 44.1101\n",
      "Epoch [24/50], Train Loss: 15.9990, Val Loss: 120.4109\n",
      "Epoch [25/50], Train Loss: 107.0556, Val Loss: 180.0030\n",
      "Epoch [26/50], Train Loss: 51.5981, Val Loss: 95.0732\n",
      "Epoch [27/50], Train Loss: 37.3379, Val Loss: 46.4968\n",
      "Epoch [28/50], Train Loss: 29.0419, Val Loss: 31.9819\n",
      "Validation loss improves, saving model.\n",
      "Epoch [29/50], Train Loss: 22.1037, Val Loss: 43.1561\n",
      "Epoch [30/50], Train Loss: 20.7521, Val Loss: 31.0260\n",
      "Validation loss improves, saving model.\n",
      "Epoch [31/50], Train Loss: 17.7937, Val Loss: 32.4755\n",
      "Epoch [32/50], Train Loss: 14.2739, Val Loss: 26.4346\n",
      "Validation loss improves, saving model.\n",
      "Epoch [33/50], Train Loss: 12.7173, Val Loss: 26.1366\n",
      "Validation loss improves, saving model.\n",
      "Epoch [34/50], Train Loss: 11.1029, Val Loss: 28.0710\n",
      "Epoch [35/50], Train Loss: 13.7096, Val Loss: 23.9337\n",
      "Validation loss improves, saving model.\n",
      "Epoch [36/50], Train Loss: 11.0412, Val Loss: 24.5511\n",
      "Epoch [37/50], Train Loss: 11.0104, Val Loss: 24.7422\n",
      "Epoch [38/50], Train Loss: 10.3873, Val Loss: 22.9982\n",
      "Validation loss improves, saving model.\n",
      "Epoch [39/50], Train Loss: 10.3998, Val Loss: 27.4647\n",
      "Epoch [40/50], Train Loss: 14.2213, Val Loss: 25.7683\n",
      "Epoch [41/50], Train Loss: 9.9103, Val Loss: 33.4217\n",
      "Epoch [42/50], Train Loss: 9.5397, Val Loss: 26.4092\n",
      "Epoch [43/50], Train Loss: 7.2042, Val Loss: 25.4352\n",
      "Epoch [44/50], Train Loss: 7.3672, Val Loss: 24.5739\n",
      "Epoch [45/50], Train Loss: 7.6088, Val Loss: 23.9401\n",
      "Epoch [46/50], Train Loss: 9.1473, Val Loss: 29.1719\n",
      "Epoch [47/50], Train Loss: 6.6895, Val Loss: 26.6492\n",
      "Epoch [48/50], Train Loss: 7.0745, Val Loss: 24.1609\n",
      "Epoch [49/50], Train Loss: 5.6725, Val Loss: 25.6057\n",
      "Epoch [50/50], Train Loss: 5.4401, Val Loss: 25.0608\n"
     ]
    }
   ],
   "source": [
    "from torch.optim.lr_scheduler import ReduceLROnPlateau\n",
    "\n",
    "device = torch.device(\"cuda\")\n",
    "model = MobileNetSteering().to(device)\n",
    "\n",
    "criterion = nn.MSELoss()\n",
    "optimizer = torch.optim.Adam(model.parameters(), lr=0.001)\n",
    "\n",
    "num_epochs = 50\n",
    "\n",
    "scheduler = ReduceLROnPlateau(optimizer, mode='min', factor=0.8, patience=5, verbose=True)\n",
    "\n",
    "train_losses = [] \n",
    "val_losses = []  \n",
    "\n",
    "model_name = 'mobilenetv2_8_iunie_200_66.pth'\n",
    "\n",
    "for epoch in range(num_epochs):\n",
    "    model.train()\n",
    "    train_loss = 0.0\n",
    "    for images, steering_angles in training_loader:\n",
    "        # images = images.to(torch.float16)\n",
    "        images = images.to(device)\n",
    "        \n",
    "        steering_angles = steering_angles.to(device)\n",
    "        # steering_angles = steering_angles.to(torch.qint8)\n",
    "        steering_angles = steering_angles.to(torch.uint8)\n",
    "        \n",
    "        optimizer.zero_grad()\n",
    "        outputs = model(images)\n",
    "        loss = criterion(outputs, steering_angles.float().unsqueeze(1))\n",
    "        loss.backward()\n",
    "        optimizer.step()\n",
    "        train_loss += loss.item() * images.size(0)  \n",
    "\n",
    "    train_loss = train_loss / len(training_loader.dataset)\n",
    "    train_losses.append(train_loss)\n",
    "\n",
    "    model.eval()\n",
    "    val_loss = 0.0\n",
    "    with torch.no_grad():\n",
    "        for images_val, steering_angles_val in validation_loader:\n",
    "            # images_val = images_val.to(torch.float16)\n",
    "            images_val = images_val.to(device)\n",
    "            \n",
    "            steering_angles_val = steering_angles_val.to(device)\n",
    "            # steering_angles = steering_angles.to(torch.qint8)\n",
    "            steering_angles_val = steering_angles_val.to(torch.uint8)\n",
    "            \n",
    "            outputs_val = model(images_val)\n",
    "            loss_val = criterion(outputs_val, steering_angles_val.float().unsqueeze(1))\n",
    "            val_loss += loss_val.item() * images_val.size(0) \n",
    "    \n",
    "    val_loss = val_loss / len(validation_loader.dataset)\n",
    "    val_losses.append(val_loss)\n",
    "    \n",
    "    print(f'Epoch [{epoch+1}/{num_epochs}], Train Loss: {train_loss:.4f}, Val Loss: {val_loss:.4f}')\n",
    "\n",
    "    scheduler.step(val_loss)\n",
    "    \n",
    "    if epoch == 0:\n",
    "        best_val_loss = val_loss\n",
    "        torch.save(model.state_dict(), model_name)\n",
    "        print(\"First epoch, saving model\")\n",
    "    if val_loss < best_val_loss:\n",
    "        torch.save(model.state_dict(), model_name)\n",
    "        print(\"Validation loss improves, saving model.\")\n",
    "        best_val_loss = val_loss"
   ]
  },
  {
   "cell_type": "code",
   "execution_count": 10,
   "id": "9cc695a1-c218-4f9d-85b1-d1db8e10caa0",
   "metadata": {},
   "outputs": [
    {
     "data": {
      "image/png": "[encoded data removed]",
      "text/plain": [
       "<Figure size 640x480 with 1 Axes>"
      ]
     },
     "metadata": {},
     "output_type": "display_data"
    },
    {
     "data": {
      "text/plain": [
       "<Figure size 640x480 with 0 Axes>"
      ]
     },
     "metadata": {},
     "output_type": "display_data"
    }
   ],
   "source": [
    "plt.plot(train_losses, label='Training Loss')\n",
    "plt.plot(val_losses, label='Validation Loss')\n",
    "plt.xlabel('Epoch')\n",
    "plt.ylabel('Loss')\n",
    "plt.title('Training and Validation Loss')\n",
    "plt.legend()\n",
    "plt.show()\n",
    "plt.savefig('Training and Validation loss MobilenetV2.png')"
   ]
  },
  {
   "cell_type": "markdown",
   "id": "c54f2e8f-4d0d-423d-b222-904e8d328fbd",
   "metadata": {},
   "source": [
    "# Verificarea modelului pe setul de testare"
   ]
  },
  {
   "cell_type": "code",
   "execution_count": 11,
   "id": "deed746a-7a6f-4e18-8d54-ed220c0b215d",
   "metadata": {},
   "outputs": [
    {
     "name": "stdout",
     "output_type": "stream",
     "text": [
      "Loss on test set: 22.025306990249135\n"
     ]
    }
   ],
   "source": [
    "model.eval()  # Set the model to evaluation mode\n",
    "running_loss = 0.0\n",
    "criterion = nn.MSELoss()\n",
    "\n",
    "with torch.no_grad():  # Disable gradient computation\n",
    "    for images, labels in testing_loader:\n",
    "        images, labels = images.to(device), labels.to(device)\n",
    "        labels = labels.view(-1, 1).float()  # Reshape labels and convert to FloatTensor\n",
    "        outputs = model(images)\n",
    "        loss = criterion(outputs, labels)\n",
    "        running_loss += loss.item() * images.size(0)\n",
    "\n",
    "total_loss = running_loss / len(testing_loader.dataset)\n",
    "\n",
    "print(\"Loss on test set: \" + str(total_loss))"
   ]
  },
  {
   "cell_type": "code",
   "execution_count": 12,
   "id": "987f1366-461b-422a-9a1a-aa275f63b3df",
   "metadata": {},
   "outputs": [
    {
     "name": "stdout",
     "output_type": "stream",
     "text": [
      "Number of parameters: 2225153\n"
     ]
    }
   ],
   "source": [
    "print(\"Number of parameters: \" + str(sum(p.numel() for p in model.parameters() if p.requires_grad)))"
   ]
  },
  {
   "cell_type": "code",
   "execution_count": null,
   "id": "7cd21b03-b09d-4bbc-b39c-b11dea6e2398",
   "metadata": {},
   "outputs": [],
   "source": []
  }
 ],
 "metadata": {
  "kernelspec": {
   "display_name": "Licenta",
   "language": "python",
   "name": "licenta"
  },
  "language_info": {
   "codemirror_mode": {
    "name": "ipython",
    "version": 3
   },
   "file_extension": ".py",
   "mimetype": "text/x-python",
   "name": "python",
   "nbconvert_exporter": "python",
   "pygments_lexer": "ipython3",
   "version": "3.10.14"
  }
 },
 "nbformat": 4,
 "nbformat_minor": 5
}
